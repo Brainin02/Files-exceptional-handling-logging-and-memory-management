{
  "nbformat": 4,
  "nbformat_minor": 0,
  "metadata": {
    "colab": {
      "provenance": []
    },
    "kernelspec": {
      "name": "python3",
      "display_name": "Python 3"
    },
    "language_info": {
      "name": "python"
    }
  },
  "cells": [
    {
      "cell_type": "markdown",
      "source": [
        "1. What is the difference between interpreted and compiled languages?\n",
        "\n",
        "ans. The key difference between interpreted and compiled languages lies in how they are executed by a computer.\n",
        "\n",
        "Compiled Languages\n",
        "\n",
        "The code is translated into machine code (binary) before execution using a compiler.\n",
        "\n",
        "The compiled code is platform-specific and runs directly on the CPU.\n",
        "\n",
        "This results in faster execution because the translation happens only once.\n",
        "\n",
        "Examples: C, C++, Rust, Go\n",
        "\n",
        "Process:\n",
        "Write code (source code)\n",
        "\n",
        "Compile it into machine code (binary/executable)\n",
        "\n",
        "Interpreted Languages\n",
        "\n",
        "The code is executed line by line by an interpreter at runtime.\n",
        "\n",
        "No separate compilation step; translation happens on the fly.\n",
        "\n",
        "\n",
        "Slower execution compared to compled languages because translation happens every time the code runs.\n",
        "\n",
        "Examples: Python, JavaScript, Ruby, PHP\n",
        "Process:\n",
        "\n",
        "Write code (source code)\n",
        "\n",
        "Run it directly using an interpreter\n",
        "\n",
        "\n",
        "2. What is exception handling in Python?\n",
        "\n",
        "ans. Exception handling in Python is a mechanism that allows you to deal with runtime errors gracefully instead of crashing the program. It helps in detecting, handling, and recovering from errors.\n",
        "\n",
        "3. What is the purpose of the finally block in exception handling?\n",
        "\n",
        "ans. The finally block in Python is used to execute cleanup code that must run no matter what—whether an exception occurs or not. It ensures that resources like files, network connections, or database connections are properly closed.\n",
        "\n",
        "4.  What is logging in Python?\n",
        "\n",
        "ans. Logging in Python is a way to track events that happen during the execution of a program. It helps in debugging, monitoring, and maintaining applications by recording messages about errors, warnings, or general info.\n",
        "\n",
        "5. What is the significance of the __del__ method in Python?\n",
        "\n",
        "ans. The __del__ method in Python is a destructor that is automatically called when an object is about to be destroyed. It is mainly used for cleanup operations, such as closing files, releasing memory, or disconnecting from databases.\n",
        "\n",
        "6. What is the difference between import and from ... import in Python?\n",
        "\n",
        "ans. Both import and from ... import are used to include modules in Python, but they work differently.\n",
        "\n",
        "Using import\n",
        "\n",
        "This imports the entire module, and you must use the module name to access functions or variables.\n",
        "\n",
        "Using from ... import\n",
        "\n",
        "This imports specific functions, classes, or variables from a module, allowing you to use them directly without the module prefix.\n",
        "\n",
        "7. How can you handle multiple exceptions in Python?\n",
        "\n",
        "ans. In Python, you can handle multiple exceptions in various ways to ensure your program runs smoothly without crashing.\n",
        "\n",
        "Using Multiple except Blocks\n",
        "You can handle different exceptions separately by using multiple except blocks.\n",
        "\n",
        "Handling Multiple Exceptions in a Single except Block\n",
        "\n",
        "You can catch multiple exceptions in one except block by using a tuple.\n",
        "\n",
        "Using Exception as a Generic Catch-All\n",
        "\n",
        "You can use a generic Exception to catch all errors, but use it cautiously.\n",
        "\n",
        "Using else and finally with Multiple Exceptions\n",
        "\n",
        "else: Executes only if no exception occurs.\n",
        "\n",
        "finally: Always executes, whether an exception occurs or not.\n",
        "\n",
        "8. What is the purpose of the with statement when handling files in Python?\n",
        "\n",
        "ans. The with statement in Python is used for handling files safely and efficiently. It ensures that the file is automatically closed after the block is executed, even if an error occurs.\n",
        "\n",
        "9. What is the difference between multithreading and multiprocessing?\n",
        "\n",
        "ans. Difference Between Multithreading and Multiprocessing in Python\n",
        "Both multithreading and multiprocessing are used to execute multiple tasks simultaneously, but they work differently.\n",
        "\n",
        "Multithreading\n",
        "\n",
        "Multithreading allows multiple threads (lightweight processes) to run within the same process, sharing memory.\n",
        "\n",
        " Multiprocessing\n",
        "\n",
        "Multiprocessing creates multiple processes, each with its own memory space, allowing true parallel execution.\n",
        "\n",
        "10. What are the advantages of using logging in a program?\n",
        "\n",
        "ans. Advantages of Using Logging in a Program\n",
        "Logging is an essential practice in software development that helps track the behavior of a program, diagnose issues, and monitor application performance. Instead of using print() statements, logging provides a structured and flexible way to capture important information.\n",
        "\n",
        "11. What is memory management in Python?\n",
        "\n",
        "ans. Memory management in Python refers to how the interpreter allocates, manages, and deallocates memory dynamically. Python uses an automatic memory management system that includes features like garbage collection, reference counting, and memory pools to optimize performance.\n",
        "\n",
        "12. What are the basic steps involved in exception handling in Python?\n",
        "\n",
        "ans. Exception handling in Python ensures that a program can gracefully handle runtime errors instead of crashing. The key steps involved are:\n",
        "\n",
        "Use a try Block to Enclose Risky Code\n",
        "\n",
        "Handle Specific Exceptions Using except\n",
        "\n",
        "Use a General except to Catch Unexpected Errors\n",
        "\n",
        "Use an else Block for Code That Runs if No Exception Occurs\n",
        "\n",
        "Use finally for Cleanup Actions (Always Executes)\n",
        "\n",
        "13. Why is memory management important in Python?\n",
        "\n",
        "ans. Memory management in Python is crucial for performance, efficiency, and stability. Since Python handles memory automatically, understanding its memory management helps developers write optimized and scalable programs.\n",
        "\n",
        "14. What is the role of try and except in exception handling?\n",
        "\n",
        "ans. The try and except blocks are the core of exception handling in Python. They allow a program to handle runtime errors gracefully without crashing.\n",
        "\n",
        "15. How does Python's garbage collection system work?\n",
        "\n",
        "ans. Python has an automatic garbage collection (GC) system that manages memory efficiently by removing unused objects. It works using reference counting and cyclic garbage collection to free up memory and prevent memory leaks.\n",
        "\n",
        "16. What is the purpose of the else block in exception handling ?\n",
        "\n",
        "ans.\n",
        "In Python, the else block in exception handling is used to execute code only if no exception occurs in the try block.\n",
        "\n",
        "Why Use the else Block?\n",
        "\n",
        "Separates error-prone code (try) from normal execution (else)\n",
        "\n",
        "Improves code readability by clearly distinguishing between exception handling and successful execution\n",
        "\n",
        " Syntax of try-except-else\n",
        "\n",
        " Example: Using else in Exception Handling\n",
        "\n",
        " When to Use else?\n",
        "\n",
        "When you want to run some code only if no exception occurs.\n",
        "\n",
        "To keep the try block focused on risky operations and move normal execution logic into else.\n",
        "\n",
        "17. What are the common logging levels in Python ?\n",
        "\n",
        "ans. Python’s logging module provides different logging levels to categorize the severity of messages. These levels help developers debug, track issues, and monitor application behavior efficiently.\n",
        "\n",
        "18. What is the difference between os.fork() and multiprocessing in Python?\n",
        "\n",
        "ans. Both os.fork() and the multiprocessing module allow creating separate processes in Python, but they differ in usage, portability, and complexity.\n",
        "\n",
        "\n",
        "os.fork(): Low-Level Process Creation\n",
        "os.fork() creates a child process by duplicating the parent process. It is a low-level UNIX-only function.\n",
        "\n",
        "\n",
        "multiprocessing Module: Cross-Platform Process Creation\n",
        "\n",
        " The multiprocessing module provides a higher-level API for creating processes, making it portable across Windows, macOS, and Linux.\n",
        "\n",
        "Each process runs independently with its own memory space.\n",
        "Supports inter-process communication (IPC), shared memory, and process pools.\n",
        "\n",
        "\n",
        "19. What is the importance of closing a file in Python?\n",
        "\n",
        "ans. When working with files in Python, it is crucial to close the file properly to ensure data integrity and system resource management.\n",
        "\n",
        "20. What is the difference between file.read() and file.readline() in Python?\n",
        "\n",
        "ans. Both file.read() and file.readline() are used to read content from a file, but they differ in how much data they read and how they process the file's content.\n",
        "\n",
        "21. What is the logging module in Python used for?\n",
        "\n",
        "ans. The logging module in Python is used for tracking events in an application. It helps debug, monitor, and record errors in a structured way. Instead of using print() for debugging, logging allows you to:\n",
        "\n",
        "Record messages with different severity levels\n",
        "\n",
        "Log errors and events to files or external services\n",
        "\n",
        "Monitor applications in real-time\n",
        "\n",
        "Debug efficiently without cluttering the console\n",
        "\n",
        "22. What is the os module in Python used for in file handling?\n",
        "\n",
        "ans. The os module in Python provides functions to interact with the operating system, including file handling, directory management, and environment manipulation.\n",
        "\n",
        "Why Use the os Module for File Handling?\n",
        "\n",
        "Cross-platform compatibility – Works on Windows, Linux, macOS.\n",
        "\n",
        "Perform advanced file operations – Create, delete, rename, move files.\n",
        "\n",
        "Manage directories – Create, remove, list directories.\n",
        "\n",
        " Get file information – Check file existence, size, and permissions.\n",
        "\n",
        " 23. What are the challenges associated with memory management in Python?\n",
        "\n",
        " ans. Python has automatic memory management, including garbage collection (GC) and dynamic memory allocation. However, there are still some challenges that can lead to performance issues, memory leaks, and inefficiencies.\n",
        "\n",
        "Reference Cycles & Garbage Collection Issues\n",
        "\n",
        "Memory Fragmentation\n",
        "\n",
        "Unused Objects Not Being Collected Immediately\n",
        "\n",
        "Excessive Memory Usage in Long-Running Applications\n",
        "\n",
        "Inefficient Use of Mutable Objects\n",
        "\n",
        "Overuse of global Variables\n",
        "\n",
        "24. How do you raise an exception manually in Python?\n",
        "\n",
        "ans. n Python, you can manually raise an exception using the raise keyword. This is useful when you want to signal an error condition, enforce validation, or handle unexpected scenarios in your code.\n",
        "\n",
        "25. Why is it important to use multithreading in certain applications?\n",
        "\n",
        "ans. Multithreading is crucial in applications that need to perform multiple tasks simultaneously to improve efficiency, responsiveness, and resource utilization. Instead of waiting for one task to complete, multithreading allows a program to handle multiple tasks at the same time.\n",
        "\n",
        "\n",
        "\n"
      ],
      "metadata": {
        "id": "HRS_9xARwEk5"
      }
    },
    {
      "cell_type": "code",
      "source": [
        "# How can you open a file for writing in Python and write a string to it\n",
        "with open(\"example.txt\", \"w\") as file:\n",
        "    file.write(\"Hello, this is a test string!\")\n"
      ],
      "metadata": {
        "id": "g26gnivH3JD-"
      },
      "execution_count": 1,
      "outputs": []
    },
    {
      "cell_type": "code",
      "source": [
        "#Write a Python program to read the contents of a file and print each line.\n",
        "# Open the file in read mode and print each line\n",
        "with open(\"example.txt\", \"r\") as file:\n",
        "    for line in file:\n",
        "        print(line.strip())\n"
      ],
      "metadata": {
        "colab": {
          "base_uri": "https://localhost:8080/"
        },
        "id": "cZorsbuN3Z6e",
        "outputId": "313f3853-a289-4ba3-b36b-b7e6390bf412"
      },
      "execution_count": 2,
      "outputs": [
        {
          "output_type": "stream",
          "name": "stdout",
          "text": [
            "Hello, this is a test string!\n"
          ]
        }
      ]
    },
    {
      "cell_type": "code",
      "source": [
        "#How would you handle a case where the file doesn't exist while trying to open it for reading?\n",
        "\n",
        "try:\n",
        "    with open(\"non_existent_file.txt\", \"r\") as file:\n",
        "        content = file.read()\n",
        "        print(content)\n",
        "except FileNotFoundError:\n",
        "    print(\"Error: The file does not exist. Please check the filename or path.\")\n"
      ],
      "metadata": {
        "colab": {
          "base_uri": "https://localhost:8080/"
        },
        "id": "FEiC72Qi3n-H",
        "outputId": "6b8b10b7-2d7c-421a-dadb-4988a183eeca"
      },
      "execution_count": 4,
      "outputs": [
        {
          "output_type": "stream",
          "name": "stdout",
          "text": [
            "Error: The file does not exist. Please check the filename or path.\n"
          ]
        }
      ]
    },
    {
      "cell_type": "code",
      "source": [
        "#Write a Python script that reads from one file and writes its content to another file?\n",
        "try:\n",
        "    with open(\"source.txt\", \"r\") as source_file, open(\"destination.txt\", \"w\") as dest_file:\n",
        "        dest_file.write(source_file.read())\n",
        "    print(\"File copied successfully!\")\n",
        "except FileNotFoundError:\n",
        "    print(\"Error: source.txt does not exist!\")\n"
      ],
      "metadata": {
        "colab": {
          "base_uri": "https://localhost:8080/"
        },
        "id": "pE079VbA3xxq",
        "outputId": "7ba6aaa7-db1b-42cd-d0a9-fcd0ce8b0b4f"
      },
      "execution_count": 6,
      "outputs": [
        {
          "output_type": "stream",
          "name": "stdout",
          "text": [
            "Error: source.txt does not exist!\n"
          ]
        }
      ]
    },
    {
      "cell_type": "code",
      "source": [
        "# How would you catch and handle division by zero error in Python?\n",
        "try:\n",
        "    result = 10 / 0  # This will raise ZeroDivisionError\n",
        "except ZeroDivisionError:\n",
        "    print(\"Error: Division by zero is not allowed!\")\n"
      ],
      "metadata": {
        "colab": {
          "base_uri": "https://localhost:8080/"
        },
        "id": "hCfkUMBP4F4C",
        "outputId": "700e483b-4f64-41cf-b7f9-c8eba4279380"
      },
      "execution_count": 7,
      "outputs": [
        {
          "output_type": "stream",
          "name": "stdout",
          "text": [
            "Error: Division by zero is not allowed!\n"
          ]
        }
      ]
    },
    {
      "cell_type": "code",
      "source": [
        "#Write a Python program that logs an error message to a log file when a division by zero exception occurs.\n",
        "import logging\n",
        "\n",
        "# Configure logging to write to a file\n",
        "logging.basicConfig(filename=\"error.log\", level=logging.ERROR,\n",
        "                    format=\"%(asctime)s - ERROR: %(message)s\")\n",
        "\n",
        "def safe_divide(a, b):\n",
        "    try:\n",
        "        return a / b\n",
        "    except ZeroDivisionError:\n",
        "        logging.error(f\"Attempted to divide {a} by zero.\")\n",
        "        return \"Error: Cannot divide by zero!\"\n",
        "\n",
        "print(safe_divide(10, 2))\n",
        "print(safe_divide(10, 0))\n"
      ],
      "metadata": {
        "colab": {
          "base_uri": "https://localhost:8080/"
        },
        "id": "zAo2dIxV4RxF",
        "outputId": "2b0cd7b3-a251-424c-8922-d8febc786c45"
      },
      "execution_count": 8,
      "outputs": [
        {
          "output_type": "stream",
          "name": "stderr",
          "text": [
            "ERROR:root:Attempted to divide 10 by zero.\n"
          ]
        },
        {
          "output_type": "stream",
          "name": "stdout",
          "text": [
            "5.0\n",
            "Error: Cannot divide by zero!\n"
          ]
        }
      ]
    },
    {
      "cell_type": "code",
      "source": [
        "#How do you log information at different levels (INFO, ERROR, WARNING) in Python using the logging module\n",
        "\n",
        "import logging\n",
        "\n",
        "# Configure logging\n",
        "logging.basicConfig(filename=\"app.log\", level=logging.DEBUG,\n",
        "                    format=\"%(asctime)s - %(levelname)s - %(message)s\")\n",
        "\n",
        "logging.debug(\"This is a DEBUG message (useful for debugging).\")\n",
        "logging.info(\"This is an INFO message (general information).\")\n",
        "logging.warning(\"This is a WARNING message (something might be wrong).\")\n",
        "logging.error(\"This is an ERROR message (something went wrong).\")\n",
        "logging.critical(\"This is a CRITICAL message (serious failure).\")\n",
        "\n",
        "print(\"Logs written to app.log successfully!\")\n"
      ],
      "metadata": {
        "colab": {
          "base_uri": "https://localhost:8080/"
        },
        "id": "n1V_M23q4tT4",
        "outputId": "71005b37-1457-4db2-e672-cc08a626752b"
      },
      "execution_count": 9,
      "outputs": [
        {
          "output_type": "stream",
          "name": "stderr",
          "text": [
            "WARNING:root:This is a WARNING message (something might be wrong).\n",
            "ERROR:root:This is an ERROR message (something went wrong).\n",
            "CRITICAL:root:This is a CRITICAL message (serious failure).\n"
          ]
        },
        {
          "output_type": "stream",
          "name": "stdout",
          "text": [
            "Logs written to app.log successfully!\n"
          ]
        }
      ]
    },
    {
      "cell_type": "code",
      "source": [
        "#Write a program to handle a file opening error using exception handling.\n",
        "try:\n",
        "    with open(\"non_existent_file.txt\", \"r\") as file:\n",
        "        content = file.read()\n",
        "        print(content)\n",
        "except FileNotFoundError:\n",
        "    print(\"Error: The file does not exist. Please check the filename.\")\n"
      ],
      "metadata": {
        "colab": {
          "base_uri": "https://localhost:8080/"
        },
        "id": "vD-J6cON46G1",
        "outputId": "0895d548-450f-4705-9c58-5ed252b1b94d"
      },
      "execution_count": 10,
      "outputs": [
        {
          "output_type": "stream",
          "name": "stdout",
          "text": [
            "Error: The file does not exist. Please check the filename.\n"
          ]
        }
      ]
    },
    {
      "cell_type": "code",
      "source": [
        "#How can you read a file line by line and store its content in a list in Python\n",
        "lines = []\n",
        "with open(\"example.txt\", \"r\") as file:\n",
        "    for line in file:\n",
        "        lines.append(line.strip())\n",
        "\n",
        "print(lines)"
      ],
      "metadata": {
        "colab": {
          "base_uri": "https://localhost:8080/"
        },
        "id": "dugdTxUS5I3o",
        "outputId": "05db637e-4e28-4a4a-fbc7-401ea982eeaa"
      },
      "execution_count": 11,
      "outputs": [
        {
          "output_type": "stream",
          "name": "stdout",
          "text": [
            "['Hello, this is a test string!']\n"
          ]
        }
      ]
    },
    {
      "cell_type": "code",
      "source": [
        "#How can you append data to an existing file in Python?\n",
        "with open(\"example.txt\", \"a\") as file:\n",
        "    file.write(\"\\nThis is a new line added to the file.\")\n",
        "\n",
        "print(\"Data appended successfully!\")\n"
      ],
      "metadata": {
        "colab": {
          "base_uri": "https://localhost:8080/"
        },
        "id": "Wanzn7BE5WR2",
        "outputId": "b7dd4072-f1d0-4043-f7ec-3c18947ce7f5"
      },
      "execution_count": 12,
      "outputs": [
        {
          "output_type": "stream",
          "name": "stdout",
          "text": [
            "Data appended successfully!\n"
          ]
        }
      ]
    },
    {
      "cell_type": "code",
      "source": [
        "#Write a Python program that uses a try-except block to handle an error when attempting to access a\n",
        "#dictionary key that doesn't exist\n",
        "my_dict = {\"name\": \"Brainin\", \"age\": 20}\n",
        "\n",
        "try:\n",
        "    value = my_dict[\"city\"]\n",
        "    print(f\"City: {value}\")\n",
        "except KeyError:\n",
        "    print(\"Error: The key 'city' does not exist in the dictionary!\")\n"
      ],
      "metadata": {
        "colab": {
          "base_uri": "https://localhost:8080/"
        },
        "id": "N7oe5xD75imt",
        "outputId": "f78abe1e-a6e1-4af6-e5e1-73757db5eb2d"
      },
      "execution_count": 16,
      "outputs": [
        {
          "output_type": "stream",
          "name": "stdout",
          "text": [
            "Error: The key 'city' does not exist in the dictionary!\n"
          ]
        }
      ]
    },
    {
      "cell_type": "code",
      "source": [
        "# Write a program that demonstrates using multiple except blocks to handle different types of exceptions.\n",
        "try:\n",
        "    # User input for division\n",
        "    num1 = int(input(\"Enter numerator: \"))\n",
        "    num2 = int(input(\"Enter denominator: \"))\n",
        "\n",
        "    result = num1 / num2  # May cause ZeroDivisionError\n",
        "    my_list = [1, 2, 3]\n",
        "\n",
        "    print(\"Fourth element:\", my_list[3])  # May cause IndexError\n",
        "\n",
        "except ZeroDivisionError:\n",
        "    print(\"Error: You cannot divide by zero!\")\n",
        "\n",
        "except ValueError:\n",
        "    print(\"Error: Invalid input! Please enter numbers only.\")\n",
        "\n",
        "except IndexError:\n",
        "    print(\"Error: List index out of range!\")\n",
        "\n",
        "except Exception as e:\n",
        "    print(f\"An unexpected error occurred: {e}\")\n",
        "\n",
        "print(\"Program continues...\")\n"
      ],
      "metadata": {
        "colab": {
          "base_uri": "https://localhost:8080/"
        },
        "id": "QGw-IzHI5_px",
        "outputId": "ba2333d2-722e-44c9-cff7-a44d29423476"
      },
      "execution_count": 18,
      "outputs": [
        {
          "output_type": "stream",
          "name": "stdout",
          "text": [
            "Enter numerator: 3\n",
            "Enter denominator: 2\n",
            "Error: List index out of range!\n",
            "Program continues...\n"
          ]
        }
      ]
    },
    {
      "cell_type": "code",
      "source": [
        "#How would you check if a file exists before attempting to read it in Python\n",
        "\n",
        "import os\n",
        "\n",
        "file_name = \"example.txt\"\n",
        "\n",
        "if os.path.exists(file_name):  # Checks if file exists\n",
        "    with open(file_name, \"r\") as file:\n",
        "        content = file.read()\n",
        "        print(content)\n",
        "else:\n",
        "    print(\"Error: File does not exist!\")\n"
      ],
      "metadata": {
        "colab": {
          "base_uri": "https://localhost:8080/"
        },
        "id": "VEsvf9Rv6wZY",
        "outputId": "00dceda8-ac3e-4e7a-cc5b-13dc4ea0e547"
      },
      "execution_count": 19,
      "outputs": [
        {
          "output_type": "stream",
          "name": "stdout",
          "text": [
            "Hello, this is a test string!\n",
            "This is a new line added to the file.\n"
          ]
        }
      ]
    },
    {
      "cell_type": "code",
      "source": [
        "# Write a program that uses the logging module to log both informational and error messages.\n",
        "import logging\n",
        "\n",
        "logging.basicConfig(\n",
        "    filename=\"app.log\",\n",
        "    level=logging.DEBUG,\n",
        "    format=\"%(asctime)s - %(levelname)s - %(message)s\",\n",
        "    datefmt=\"%Y-%m-%d %H:%M:%S\"\n",
        ")\n",
        "\n",
        "# Logging messages\n",
        "logging.info(\"This is an informational message.\")\n",
        "logging.error(\"This is an error message.\")\n",
        "\n",
        "print(\"Logging complete. Check 'app.log' for details.\")\n"
      ],
      "metadata": {
        "colab": {
          "base_uri": "https://localhost:8080/"
        },
        "id": "L1x3VERE69rB",
        "outputId": "dd16c6b5-d148-4031-8fb9-e2b7e7bfd77e"
      },
      "execution_count": 20,
      "outputs": [
        {
          "output_type": "stream",
          "name": "stderr",
          "text": [
            "ERROR:root:This is an error message.\n"
          ]
        },
        {
          "output_type": "stream",
          "name": "stdout",
          "text": [
            "Logging complete. Check 'app.log' for details.\n"
          ]
        }
      ]
    },
    {
      "cell_type": "code",
      "source": [
        "#Write a Python program that prints the content of a file and handles the case when the file is empty.\n",
        "import os\n",
        "\n",
        "def print_file_content(file_name):\n",
        "    \"\"\"Reads and prints file content, handling empty files and missing files.\"\"\"\n",
        "    if not os.path.exists(file_name):\n",
        "        print(\"Error: The file does not exist!\")\n",
        "        return\n",
        "\n",
        "    with open(file_name, \"r\") as file:\n",
        "        content = file.read().strip()  # Remove extra spaces and newlines\n",
        "\n",
        "    if content:\n",
        "        print(\"File Content:\\n\")\n",
        "        print(content)\n",
        "    else:\n",
        "        print(\"The file is empty.\")\n",
        "\n",
        "\n",
        "file_name = \"example.txt\"\n",
        "print_file_content(file_name)\n"
      ],
      "metadata": {
        "colab": {
          "base_uri": "https://localhost:8080/"
        },
        "id": "njBIvdaq7RCt",
        "outputId": "d23b1cd8-826a-49b3-cc17-cc4a888b4fea"
      },
      "execution_count": 21,
      "outputs": [
        {
          "output_type": "stream",
          "name": "stdout",
          "text": [
            "File Content:\n",
            "\n",
            "Hello, this is a test string!\n",
            "This is a new line added to the file.\n"
          ]
        }
      ]
    },
    {
      "cell_type": "code",
      "source": [
        "#Demonstrate how to use memory profiling to check the memory usage of a small program.\n",
        "!pip install memory_profiler # install memory_profiler module\n",
        "#Demonstrate how to use memory profiling to check the memory usage of a small program.\n",
        "from memory_profiler import memory_usage\n",
        "import time\n",
        "\n",
        "def memory_intensive_task():\n",
        "    \"\"\"Simulates a memory-consuming operation.\"\"\"\n",
        "    data = []\n",
        "    for i in range(5):\n",
        "        data.extend([i] * 100000)\n",
        "        time.sleep(1)\n",
        "    return data\n",
        "mem_usage = memory_usage(memory_intensive_task)\n",
        "\n",
        "print(\"Memory usage (MB):\", mem_usage)\n",
        "print(f\"Peak memory usage: {max(mem_usage)} MB\")"
      ],
      "metadata": {
        "colab": {
          "base_uri": "https://localhost:8080/"
        },
        "id": "F1S9jlBr7iv_",
        "outputId": "e8374e26-53ca-41f5-8d15-0d00084ef050"
      },
      "execution_count": 27,
      "outputs": [
        {
          "output_type": "stream",
          "name": "stdout",
          "text": [
            "Collecting memory_profiler\n",
            "  Downloading memory_profiler-0.61.0-py3-none-any.whl.metadata (20 kB)\n",
            "Requirement already satisfied: psutil in /usr/local/lib/python3.11/dist-packages (from memory_profiler) (5.9.5)\n",
            "Downloading memory_profiler-0.61.0-py3-none-any.whl (31 kB)\n",
            "Installing collected packages: memory_profiler\n",
            "Successfully installed memory_profiler-0.61.0\n",
            "Memory usage (MB): [116.25, 116.3125, 116.8125, 117.0234375, 117.0234375, 117.0234375, 117.0234375, 117.0234375, 117.0234375, 117.0234375, 117.0234375, 118.5625, 118.5625, 118.5625, 118.5625, 118.5625, 118.5625, 118.5625, 118.5625, 118.5625, 118.5625, 119.13671875, 119.13671875, 119.13671875, 119.13671875, 119.13671875, 119.13671875, 119.13671875, 119.13671875, 119.13671875, 119.13671875, 119.91015625, 119.91015625, 119.91015625, 119.91015625, 119.91015625, 119.91015625, 119.91015625, 119.91015625, 119.91015625, 119.91015625, 120.68359375, 120.68359375, 120.68359375, 120.68359375, 120.68359375, 120.68359375, 120.68359375, 120.68359375, 120.68359375, 120.68359375, 120.9140625]\n",
            "Peak memory usage: 120.9140625 MB\n"
          ]
        }
      ]
    },
    {
      "cell_type": "code",
      "source": [
        "#Write a Python program to create and write a list of numbers to a file, one number per line.\n",
        "def write_numbers_to_file(filename, numbers):\n",
        "    \"\"\"Writes a list of numbers to a file, one per line.\"\"\"\n",
        "    with open(filename, \"w\") as file:\n",
        "        for num in numbers:\n",
        "            file.write(f\"{num}\\n\")\n",
        "\n",
        "\n",
        "numbers_list = list(range(1, 11))\n",
        "file_name = \"numbers.txt\"\n",
        "\n",
        "write_numbers_to_file(file_name, numbers_list)\n",
        "\n",
        "print(f\"Numbers written to {file_name} successfully!\")\n"
      ],
      "metadata": {
        "colab": {
          "base_uri": "https://localhost:8080/"
        },
        "id": "tDZS6eQH8vcp",
        "outputId": "d8e40188-d0c0-492e-f6b0-7082299f095d"
      },
      "execution_count": 28,
      "outputs": [
        {
          "output_type": "stream",
          "name": "stdout",
          "text": [
            "Numbers written to numbers.txt successfully!\n"
          ]
        }
      ]
    },
    {
      "cell_type": "code",
      "source": [
        "#How would you implement a basic logging setup that logs to a file with rotation after 1MB?\n",
        "import logging\n",
        "from logging.handlers import RotatingFileHandler\n",
        "\n",
        "log_file = \"app.log\"\n",
        "\n",
        "logging.basicConfig(\n",
        "    level=logging.DEBUG,\n",
        "    format=\"%(asctime)s - %(levelname)s - %(message)s\",\n",
        "    handlers=[\n",
        "        RotatingFileHandler(log_file, maxBytes=1_000_000, backupCount=3)  # 1MB limit, keep 3 backups\n",
        "    ]\n",
        ")\n",
        "\n",
        "\n",
        "for i in range(10000):\n",
        "    logging.info(f\"Log message {i}\")\n"
      ],
      "metadata": {
        "id": "LCh8uMO39DCx"
      },
      "execution_count": 29,
      "outputs": []
    },
    {
      "cell_type": "code",
      "source": [
        "#Write a program that handles both IndexError and KeyError using a try-except block.\n",
        "def handle_exceptions():\n",
        "    my_list = [10, 20, 30]\n",
        "    my_dict = {\"a\": 1, \"b\": 2}\n",
        "\n",
        "    try:\n",
        "        # Attempt to access an out-of-range index\n",
        "        print(\"List element:\", my_list[5])\n",
        "\n",
        "\n",
        "        print(\"Dictionary value:\", my_dict[\"z\"])\n",
        "\n",
        "    except IndexError:\n",
        "        print(\"Error: List index out of range!\")\n",
        "\n",
        "    except KeyError:\n",
        "        print(\"Error: Dictionary key not found!\")\n",
        "\n",
        "handle_exceptions()\n"
      ],
      "metadata": {
        "colab": {
          "base_uri": "https://localhost:8080/"
        },
        "id": "5i8sQpnX9cI4",
        "outputId": "1ed495e6-5284-4688-dd71-f41a506c189d"
      },
      "execution_count": 31,
      "outputs": [
        {
          "output_type": "stream",
          "name": "stdout",
          "text": [
            "Error: List index out of range!\n"
          ]
        }
      ]
    },
    {
      "cell_type": "code",
      "source": [
        "# How would you open a file and read its contents using a context manager in Python.\n",
        "# Open the file and read its contents\n",
        "with open(\"example.txt\", \"r\") as file:\n",
        "    content = file.read()\n",
        "\n",
        "print(content)\n"
      ],
      "metadata": {
        "colab": {
          "base_uri": "https://localhost:8080/"
        },
        "id": "VhPH2mpT9xGX",
        "outputId": "d3c068f3-a726-4cdf-d307-797718c45598"
      },
      "execution_count": 32,
      "outputs": [
        {
          "output_type": "stream",
          "name": "stdout",
          "text": [
            "Hello, this is a test string!\n",
            "This is a new line added to the file.\n"
          ]
        }
      ]
    },
    {
      "cell_type": "code",
      "source": [
        "#Write a Python program that reads a file and prints the number of occurrences of a specific word.\n",
        "def count_word_occurrences(filename, target_word):\n",
        "    \"\"\"Counts occurrences of a specific word in a file.\"\"\"\n",
        "    try:\n",
        "        with open(filename, \"r\") as file:\n",
        "            content = file.read().lower()\n",
        "            words = content.split()\n",
        "            count = words.count(target_word.lower())\n",
        "            return count\n",
        "    except FileNotFoundError:\n",
        "        print(\"Error: File not found!\")\n",
        "        return None\n",
        "\n",
        "\n",
        "file_name = \"example.txt\"\n",
        "word_to_count = \"python\"\n",
        "\n",
        "occurrences = count_word_occurrences(file_name, word_to_count)\n",
        "\n",
        "if occurrences is not None:\n",
        "    print(f\"The word '{word_to_count}' appears {occurrences} times in {file_name}.\")\n"
      ],
      "metadata": {
        "colab": {
          "base_uri": "https://localhost:8080/"
        },
        "id": "Bmj4FznL9-i8",
        "outputId": "4ee233c8-9f00-425f-f34a-51a4d23b2703"
      },
      "execution_count": 33,
      "outputs": [
        {
          "output_type": "stream",
          "name": "stdout",
          "text": [
            "The word 'python' appears 0 times in example.txt.\n"
          ]
        }
      ]
    },
    {
      "cell_type": "code",
      "source": [
        "#How can you check if a file is empty before attempting to read its contents?\n",
        "import os\n",
        "\n",
        "def is_file_empty(filename):\n",
        "    \"\"\"Checks if a file is empty using file size.\"\"\"\n",
        "    return os.path.getsize(filename) == 0\n",
        "\n",
        "file_name = \"example.txt\"\n",
        "\n",
        "if os.path.exists(file_name):\n",
        "    if is_file_empty(file_name):\n",
        "        print(\"The file is empty.\")\n",
        "    else:\n",
        "        with open(file_name, \"r\") as file:\n",
        "            content = file.read()\n",
        "            print(\"File content:\", content)\n",
        "else:\n",
        "    print(\"Error: File does not exist.\")\n"
      ],
      "metadata": {
        "colab": {
          "base_uri": "https://localhost:8080/"
        },
        "id": "BXcmsdgS-QFP",
        "outputId": "6125bfac-043e-493f-8292-2655f776f784"
      },
      "execution_count": 34,
      "outputs": [
        {
          "output_type": "stream",
          "name": "stdout",
          "text": [
            "File content: Hello, this is a test string!\n",
            "This is a new line added to the file.\n"
          ]
        }
      ]
    },
    {
      "cell_type": "code",
      "source": [
        "#Write a Python program that writes to a log file when an error occurs during file handling.\n",
        "import logging\n",
        "\n",
        "# Configure logging\n",
        "logging.basicConfig(\n",
        "    filename=\"file_errors.log\",  # Log file\n",
        "    level=logging.ERROR,  # Log only errors and above\n",
        "    format=\"%(asctime)s - %(levelname)s - %(message)s\"\n",
        ")\n",
        "\n",
        "def read_file(filename):\n",
        "    \"\"\"Attempts to read a file and logs any errors.\"\"\"\n",
        "    try:\n",
        "        with open(filename, \"r\") as file:\n",
        "            content = file.read()\n",
        "            print(content)\n",
        "    except FileNotFoundError:\n",
        "        logging.error(f\"Error: The file '{filename}' was not found.\")\n",
        "        print(\"Error: File not found!\")\n",
        "    except PermissionError:\n",
        "        logging.error(f\"Error: Permission denied for file '{filename}'.\")\n",
        "        print(\"Error: Permission denied!\")\n",
        "    except Exception as e:\n",
        "        logging.error(f\"Unexpected error while reading '{filename}': {e}\")\n",
        "        print(\"An unexpected error occurred!\")\n",
        "\n",
        "file_name = \"non_existent_file.txt\"\n",
        "read_file(file_name)\n"
      ],
      "metadata": {
        "colab": {
          "base_uri": "https://localhost:8080/"
        },
        "id": "ck63yXHl-ej1",
        "outputId": "da0e466e-ad5f-4642-ead2-b6c94e5b784a"
      },
      "execution_count": 35,
      "outputs": [
        {
          "output_type": "stream",
          "name": "stderr",
          "text": [
            "ERROR:root:Error: The file 'non_existent_file.txt' was not found.\n"
          ]
        },
        {
          "output_type": "stream",
          "name": "stdout",
          "text": [
            "Error: File not found!\n"
          ]
        }
      ]
    }
  ]
}